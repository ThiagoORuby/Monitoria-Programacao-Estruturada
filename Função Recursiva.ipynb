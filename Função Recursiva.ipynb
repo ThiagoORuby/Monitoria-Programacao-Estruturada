{
 "cells": [
  {
   "cell_type": "markdown",
   "metadata": {},
   "source": [
    " # Função Recursiva\n",
    "\n",
    " ## Definição\n",
    "Uma função recursiva é uma função que chama a si mesma dentro de sua definição. A recursão é uma técnica poderosa usada em programação para resolver problemas complexos de maneira mais simples e elegante. A chave para a recursão é ter um **caso base** que termina a recursão e **chamadas recursivas** que convergem para o caso base.\n",
    "\n",
    "## Vantagens da Recursão\n",
    "1. **Simplicidade e Clareza**: Muitas vezes, problemas que envolvem estruturas de dados hierárquicas ou repetitivas são mais facilmente representados e solucionados com recursão.\n",
    "2. **Redução de Código**: A recursão pode reduzir significativamente a quantidade de código necessário para resolver um problema.\n",
    "3. **Facilidade de Implementação**: Em problemas como a travessia de árvores e grafos, a recursão é uma maneira natural de implementar a solução.\n",
    "\n",
    "## Exemplos:"
   ]
  },
  {
   "cell_type": "code",
   "execution_count": 9,
   "metadata": {},
   "outputs": [],
   "source": [
    "# Funcão que calcular o fatorial de um numero natural\n",
    "def fatorial_recursivo(num : int):\n",
    "    if num == 1 or num ==0:\n",
    "        return 1\n",
    "    else:\n",
    "        return num*fatorial_recursivo(num-1)"
   ]
  },
  {
   "cell_type": "code",
   "execution_count": 12,
   "metadata": {},
   "outputs": [],
   "source": [
    "# Funcão que calcula o fibonacci de um numero\n",
    "def sequencia_fibonnaci_recursiva(num : int):\n",
    "    if num == 1 or num == 2:\n",
    "        return 1\n",
    "    else:\n",
    "        return sequencia_fibonnaci_recursiva(num-1)+ sequencia_fibonnaci_recursiva(num-2)"
   ]
  },
  {
   "cell_type": "markdown",
   "metadata": {},
   "source": [
    "## Considerações Finais\n",
    "Embora a recursão possa simplificar a implementação de muitos algoritmos, é importante considerar seu impacto na eficiência e no uso de memória. Em algumas situações, uma abordagem iterativa pode ser mais adequada.\n",
    "\n",
    "### Quando usar Recursão?\n",
    "- Problemas que podem ser divididos em subproblemas menores.\n",
    "- Estruturas de dados recursivas, como árvores e grafos.\n",
    "- Algoritmos de busca e ordenação específicos, como a busca binária e a ordenação rápida.\n",
    "### Quando evitar Recursão?\n",
    "- Problemas que exigem alta eficiência e controle de memória.\n",
    "- Situações onde a profundidade da recursão pode causar estouro de pilha.\n",
    "- Recursão é uma ferramenta poderosa na programação, e entender quando e como usá-la é fundamental para escrever código eficiente e elegante."
   ]
  }
 ],
 "metadata": {
  "kernelspec": {
   "display_name": "Python 3",
   "language": "python",
   "name": "python3"
  },
  "language_info": {
   "codemirror_mode": {
    "name": "ipython",
    "version": 3
   },
   "file_extension": ".py",
   "mimetype": "text/x-python",
   "name": "python",
   "nbconvert_exporter": "python",
   "pygments_lexer": "ipython3",
   "version": "3.11.8"
  }
 },
 "nbformat": 4,
 "nbformat_minor": 2
}
