{
  "nbformat": 4,
  "nbformat_minor": 0,
  "metadata": {
    "colab": {
      "provenance": []
    },
    "kernelspec": {
      "name": "python3",
      "display_name": "Python 3"
    },
    "language_info": {
      "name": "python"
    }
  },
  "cells": [
    {
      "cell_type": "markdown",
      "source": [
        "# Simulado 1 - Programação Estruturada\n",
        "\n",
        "O Professor Duquinha de Probabilidade e Estatística está cansado de calcular Média, Variância e Desvio Padrão manualmente. Ele deseja implementar funções que façam essas tarefas de forma automatizada, pois, apesar de não ser um programador, ele sabe que funções são essenciais para manter o código limpo, modularizado e de fácil reutilização.\n",
        "\n",
        "## Tarefa\n",
        "\n",
        "Implemente três funções em Python para calcular a Média, a Variância e o Desvio Padrão de uma lista de números. Você não deve usar nenhuma biblioteca que faça cálculos dessas medidas diretamente (como numpy ou statistics). Siga as dicas fornecidas para cada medida.\n",
        "\n",
        "## Dicas\n",
        "\n",
        "- **Média:** Utilize uma estrutura de repetição para somar os valores e depois divida pela quantidade de elementos.\n",
        "- **Variância:** Calcule a média, depois utilize uma estrutura de repetição para somar o quadrado das diferenças entre cada valor e a média. Divida essa soma pelo número de elementos.\n",
        "- **Desvio Padrão:** Tire a raiz quadrada da variância.\n",
        "\n",
        "## Requisitos\n",
        "\n",
        "- Implemente uma função `calcular_media(valores)` que receba uma lista de números e retorne a média.\n",
        "- Implemente uma função `calcular_variancia(valores)` que receba uma lista de números e retorne a variância.\n",
        "- Implemente uma função `calcular_desvio_padrao(valores)` que receba uma lista de números e retorne o desvio padrão.\n",
        "\n",
        "## Exemplo de saídas esperadas\n",
        "\n",
        "```python\n",
        "valores = [4, 2, 2, 8, 3, 3, 3, 9]\n",
        "\n",
        "print(f'Média: {calcular_media(valores)}') # Saída esperada: 4.25\n",
        "print(f'Variância: {calcular_variancia(valores)}') # Saída esperada: 6.43\n",
        "print(f'Desvio Padrão: {calcular_desvio_padrao(valores)}') # Saída esperada: 2.53(aproximadamente)\n"
      ],
      "metadata": {
        "id": "5cQxwSj7do3s"
      }
    },
    {
      "cell_type": "code",
      "source": [
        "def calcular_media(valores):\n",
        "    \"\"\"\n",
        "    Calcula a média de uma lista de números.\n",
        "\n",
        "    Args:\n",
        "        valores (list): Lista de números.\n",
        "\n",
        "    Returns:\n",
        "        float: Média dos números na lista.\n",
        "    \"\"\"\n",
        "    soma = 0\n",
        "    for valor in valores:\n",
        "        soma += valor\n",
        "    media = soma / len(valores)\n",
        "    return media\n",
        "\n"
      ],
      "metadata": {
        "id": "SxDp75wFd95l"
      },
      "execution_count": 2,
      "outputs": []
    },
    {
      "cell_type": "code",
      "source": [
        "def calcular_variancia(valores):\n",
        "    \"\"\"\n",
        "    Calcula a variância de uma lista de números.\n",
        "\n",
        "    Args:\n",
        "        valores (list): Lista de números.\n",
        "\n",
        "    Returns:\n",
        "        float: Variância dos números na lista.\n",
        "    \"\"\"\n",
        "    media = calcular_media(valores)\n",
        "    soma_diferencas_quadradas = 0\n",
        "    for valor in valores:\n",
        "        soma_diferencas_quadradas += (valor - media) ** 2\n",
        "    variancia = soma_diferencas_quadradas / len(valores)\n",
        "    return variancia\n",
        "\n"
      ],
      "metadata": {
        "id": "x9pvYp2a0i0m"
      },
      "execution_count": null,
      "outputs": []
    },
    {
      "cell_type": "code",
      "source": [
        "def calcular_desvio_padrao(valores):\n",
        "    \"\"\"\n",
        "    Calcula o desvio padrão de uma lista de números.\n",
        "\n",
        "    Args:\n",
        "        valores (list): Lista de números.\n",
        "\n",
        "    Returns:\n",
        "        float: Desvio padrão dos números na lista.# Simulado 1 - Programação Estruturada\n",
        "\n",
        "O Professor Duquinha de Probabilidade e Estatística está cansado de calcular Média, Variância e Desvio Padrão manualmente. Ele deseja implementar funções que façam essas tarefas de forma automatizada, pois, apesar de não ser um programador, ele sabe que funções são essenciais para manter o código limpo, modularizado e de fácil reutilização.\n",
        "\n",
        "## Tarefa\n",
        "\n",
        "…print(f'Desvio Padrão: {calcular_desvio_padrao(valores)}') # Saída esperada: 2.68 (aproximadamente)\n",
        "\n",
        "    \"\"\"\n",
        "    variancia = calcular_variancia(valores)\n",
        "    desvio_padrao = variancia ** 0.5\n",
        "    return desvio_padrao\n",
        "\n"
      ],
      "metadata": {
        "id": "l6mkfcJM0_vK"
      },
      "execution_count": 3,
      "outputs": []
    },
    {
      "cell_type": "code",
      "source": [
        "# Exemplo de uso\n",
        "valores = [4, 2, 2, 8, 3, 3, 3, 9]\n",
        "\n",
        "print(f'Média: {calcular_media(valores)}')\n",
        "print(f'Variância: {calcular_variancia(valores)}')\n",
        "print(f'Desvio Padrão: {calcular_desvio_padrao(valores)}')"
      ],
      "metadata": {
        "colab": {
          "base_uri": "https://localhost:8080/"
        },
        "id": "4ISg5HfR1B8b",
        "outputId": "79c27a84-d468-41c5-8abc-34e72f83f53d"
      },
      "execution_count": 4,
      "outputs": [
        {
          "output_type": "stream",
          "name": "stdout",
          "text": [
            "Média: 4.25\n",
            "Variância: 6.4375\n",
            "Desvio Padrão: 2.537222891273055\n"
          ]
        }
      ]
    },
    {
      "cell_type": "code",
      "source": [],
      "metadata": {
        "id": "G-uOctZx1Czv"
      },
      "execution_count": null,
      "outputs": []
    }
  ]
}