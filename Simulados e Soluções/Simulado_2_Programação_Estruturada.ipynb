{
  "nbformat": 4,
  "nbformat_minor": 0,
  "metadata": {
    "colab": {
      "provenance": []
    },
    "kernelspec": {
      "name": "python3",
      "display_name": "Python 3"
    },
    "language_info": {
      "name": "python"
    }
  },
  "cells": [
    {
      "cell_type": "markdown",
      "source": [
        "# Simulado 2 - Programação Estruturada\n",
        "\n",
        "Lembre-se de comentar bem seu código!\n"
      ],
      "metadata": {
        "id": "H2OEwRWj4n75"
      }
    },
    {
      "cell_type": "markdown",
      "source": [
        "## Uma introdução ao Aprendizado de Máquina\n",
        "\n",
        "O Aprendizado de Máquina é um subcampo da inteligência artificial que se concentra no desenvolvimento de algoritmos e técnicas que permitem aos computadores aprender a partir de dados, sem serem explicitamente programados. O objetivo é permitir que os computadores reconheçam padrões nos dados e façam previsões ou decisões com base nesses padrões.\n",
        "\n",
        "Existem três principais tipos de aprendizado de máquina: **Supervisionado**, **Não Supervisionado** e **Por Reforço**. Vamos nos consentrar aqui no **Supervisionado**\n",
        "\n",
        "Nesse tipo de aprendizado, o algoritmo é treinado em um conjunto de dados que possui entradas e as respostas desejadas correspondentes (rótulos). O objetivo é aprender uma função que mapeie as entradas para as saídas corretas.\n",
        "\n",
        "Imagine que você quer treinar um algoritmo para classificar animais com base em suas caracteristicas. Vocẽ pode escolher atributos como a presença de pelos ou penas, comportamento, número de patas, tamanho, etc. Tendo uma base de dados bem construida com as caracteristicas e a respectiva categoria do animal, podemos usá-la para a classificação de novos dados!\n"
      ],
      "metadata": {
        "id": "ZS3jmQ4w4xKh"
      }
    },
    {
      "cell_type": "markdown",
      "source": [
        "### Conhecendo o KNN\n",
        "\n",
        "O algoritmo k-Nearest Neighbors (KNN) é um método de classificação simples e poderoso usado em machine learning para a classificação de objetos com base em exemplos de treinamento que são próximos a eles no espaço de características.\n",
        "\n",
        "O KNN é um tipo de aprendizado baseado em instância, o que significa que ele não aprende explicitamente um modelo durante a fase de treinamento. Em vez disso, ele memoriza todos os dados de treinamento e faz previsões para novos pontos de dados com base na similaridade com pontos de dados previamente vistos.\n",
        "\n",
        "<center>\n",
        "<br>\n",
        "<img width=600 src=\"https://miro.medium.com/v2/resize:fit:1400/0*GPaI5OjY4Y8DW4he\" >\n",
        "</center>"
      ],
      "metadata": {
        "id": "BsyLCNm27yuE"
      }
    },
    {
      "cell_type": "markdown",
      "source": [
        "## Construindo um KNN\n",
        "\n",
        "Neste simulado, seu objetivo é construir um KNN e realizar a classificação de dados aleatórios gerados por você. Haverão funções de plotagem auxiliares para que seja possível visualizar todo o processo do algoritmo.\n",
        "\n",
        "Imagine que iremos construir o KNN para classificar pontos em um plano cartesiano. Dado um novo ponto $(x,y)$, quero saber qual a provavel cor associada a ele (0,1 ou 2)\n",
        "\n",
        "**Tarefa 1:** Construa uma função que gere uma base de dados aleatória. Ela deverá receber um número de pontos e retornará duas listas, uma guardará as coordenadas $(x, y)$ de cada ponto e a outra a categoria de cor correspondente. As coordenadas devem ser valores **reais** e o intervalo pode ser escolhido por você.\n",
        "\n",
        "**Dica:** Lembre da biblioteca random do python e das funções `random.random()` e `random.randint()`\n",
        "\n",
        "```python\n",
        "# Exemplo da estrutura dos valores de saída\n",
        "# dados\n",
        "[(1.3358629869178873, 3.3186222758486386),\n",
        " (2.1975112906241945, 1.2155703357877168),\n",
        " (1.4581214519174712, 1.6929708117677533),\n",
        " (7.044531806375291, 3.811417413325252),\n",
        " ...\n",
        "]\n",
        "# categorias\n",
        "[1, 2, 0, 1, 1, 2, ...]\n",
        "```"
      ],
      "metadata": {
        "id": "j7n-uZS58qul"
      }
    },
    {
      "cell_type": "code",
      "source": [
        "# Crie sua função aqui"
      ],
      "metadata": {
        "id": "VtLkKUh7D2WM"
      },
      "execution_count": null,
      "outputs": []
    },
    {
      "cell_type": "markdown",
      "source": [
        "Execute a célula com o código de plotagem abaixo para ver a distribuição dos seus pontos\n"
      ],
      "metadata": {
        "id": "qrmN8EN_fhh1"
      }
    },
    {
      "cell_type": "code",
      "source": [
        "import numpy as np\n",
        "import matplotlib.pyplot as plt\n",
        "\n",
        "def plota_dados(dados, categorias):\n",
        "    plt.figure(figsize=(8, 6))\n",
        "    dados = np.array(dados)\n",
        "    cores = ['purple', 'yellow', 'green']\n",
        "    for categoria in np.unique(categorias):\n",
        "      idx = categorias == categoria\n",
        "      plt.scatter(dados[idx, 0], dados[idx, 1], c=cores[categoria],\n",
        "                  label=f'Categoria {categoria}', s=25, alpha=0.7)\n",
        "    plt.xlabel('X')\n",
        "    plt.ylabel('Y')\n",
        "\n",
        "# Descomente essas linhas antes de executar\n",
        "#plota_dados(dados, categorias)\n",
        "#plt.title('Base de Dados Aleatória')\n",
        "#plt.legend()\n",
        "#plt.show()"
      ],
      "metadata": {
        "id": "pIfmCpVqCwrN"
      },
      "execution_count": null,
      "outputs": []
    },
    {
      "cell_type": "markdown",
      "source": [
        "**Tarefa 2:** Para o KNN, precisamos de um função que calcule a distância entre dois dados (pontos). Faça essa função usando a distância euclidiana:\n",
        "\n",
        "$$d(p,q) = \\sqrt{(p_1 - q_1)^2 + (p_2 - q_2)^2}$$\n",
        "\n",
        "\n",
        "Você pode adicionar exemplos pra mostrar que sua função está funcionando corretamente!"
      ],
      "metadata": {
        "id": "HT0GO8MUDoE4"
      }
    },
    {
      "cell_type": "code",
      "source": [
        "# Crie sua função aqui"
      ],
      "metadata": {
        "id": "ujjMp844HZ86"
      },
      "execution_count": null,
      "outputs": []
    },
    {
      "cell_type": "markdown",
      "source": [
        "**Tarefa 3:** Finalmente, construa a função de classificação do KNN.\n",
        "\n",
        "**Entrada:** base de dados (dados e predição gerados) e conjunto de novos pontos para classificação\n",
        "\n",
        "**Processamento:**\n",
        "- para cada ponto no conjunto de pontos, faça:\n",
        "    - calcule a distância euclidiana desse ponto para todos os da _base de dados_\n",
        "    - selecione os **K** pontos da base de dados como a menor distãncia calculada. Estes serão so vizinhos mais próximos\n",
        "    - classifique o novo ponto com a categoria mais frequente (moda) entre os **K** pontos selecionados\n",
        "\n",
        "**Saída:** Lista contendo as categorias encontradas para os novos pontos\n",
        "\n",
        "**Observações:** O valor de **K** pode ser escolhido por você. Recomendo um valor baixo, como 3, 5, 7 ou 10. Você pode estilizar os resultados de saída com prints para melhor visualização dos resultados\n",
        "\n",
        "**Dicas:**\n",
        "- Você pode usar a função `sorted` do python para ordenar com base nas menores distâncias (https://www.w3schools.com/python/ref_func_sorted.asp)\n",
        "- Como as distâncias, os pontos e as categorias estarão em listas diferentes, você pode juntar elas de alguma forma ou usar os valores dos indices como meio de conexão\n",
        "- Lembre-se do fatiamento de listas do python `lista[inicio:fim]`\n",
        "- Você provavelmente já fez uma função de **cálculo de moda** em outra atividade, sinta-se a vontade para utilizá-la\n"
      ],
      "metadata": {
        "id": "16VenyufErX3"
      }
    },
    {
      "cell_type": "code",
      "source": [
        "# Crie sua função aqui\n",
        "\n",
        "# Esses pontos são exemplos para teste\n",
        "# Você pode criar os seus próprio ou usar os que estão aqui\n",
        "novos_pontos = [(1.3358629869178873, 3.3186222758486386),\n",
        " (2.1975112906241945, 1.2155703357877168),\n",
        " (1.4581214519174712, 1.6929708117677533),\n",
        " (7.044531806375291, 3.811417413325252),\n",
        " (0.31686490376336196, 1.7141331788013159),\n",
        " (9.695328407698815, 5.509804642725968),\n",
        " (1.0511134497464425, 8.588785129941716),\n",
        " (1.9797073299566759, 3.8070782378154933),\n",
        " (7.989100219799965, 0.5720707686011162),\n",
        " (2.674491711803065, 2.7417890586423335)]"
      ],
      "metadata": {
        "id": "FiQQ1EjBMyEX"
      },
      "execution_count": null,
      "outputs": []
    },
    {
      "cell_type": "markdown",
      "source": [
        "**Tarefa 4:** Vamos visualizar a classificação! Crie uma função semelhante a anterior, mas dessa vez ela vai receber um único ponto e retornar sua classficação e o **K-ésimo** valor de distância encontrado, ou seja, dentre os **K** pontos selecionados, quero o valor da distância do mais distante (como eles estão ordenados, só pegar o **K-ésimo**)\n",
        "\n",
        "**Observações:** Você pode escolher as coordenadas desse novo ponto, mas lembre-se de estar no intervalo que você determinou no inicio!\n",
        "\n",
        "Execute a segunda célula abaixo para visualizar a classificação desse ponto"
      ],
      "metadata": {
        "id": "PmF1Z1MIIp22"
      }
    },
    {
      "cell_type": "code",
      "source": [
        "# Crie sua função aqui"
      ],
      "metadata": {
        "id": "hTsnfDBoIpFZ"
      },
      "execution_count": null,
      "outputs": []
    },
    {
      "cell_type": "code",
      "source": [
        "# Visualizando a classificação\n",
        "\n",
        "import numpy as np\n",
        "import matplotlib.pyplot as plt\n",
        "\n",
        "def visualizar_classificacao(dados, categorias, ponto, categoria, k_distancia):\n",
        "\n",
        "  plota_dados(dados, categorias)\n",
        "  cores =  ['purple', 'yellow', 'green']\n",
        "  plt.scatter(ponto[0], ponto[1], c = cores[categoria],\n",
        "              s=25, alpha=0.7, marker='^', label='Novo ponto')\n",
        "\n",
        "  circle = plt.Circle(ponto, k_distancia, color='black',\n",
        "                      fill=False, linestyle='--')\n",
        "  plt.gca().add_artist(circle)\n",
        "\n",
        "  plt.title(\"Classificação de novo ponto\")\n",
        "  plt.legend()\n",
        "  plt.show()\n",
        "\n",
        "\n",
        "# descomente antes de executar\n",
        "#visualizar_classificacao(dados, categorias, ponto, categoria, k_distancia)"
      ],
      "metadata": {
        "id": "kmWCjLKzJ8uf"
      },
      "execution_count": null,
      "outputs": []
    }
  ]
}