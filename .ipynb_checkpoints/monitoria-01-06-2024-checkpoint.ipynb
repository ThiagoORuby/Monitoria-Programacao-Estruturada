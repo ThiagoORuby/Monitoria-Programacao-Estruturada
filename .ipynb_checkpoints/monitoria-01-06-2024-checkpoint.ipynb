{
 "cells": [
  {
   "cell_type": "markdown",
   "id": "6ea49d6c-cff8-41cb-88b8-3074f623f5b2",
   "metadata": {},
   "source": [
    "## Monitoria: Programação Estruturada\n",
    "**01-06-2024**"
   ]
  },
  {
   "cell_type": "code",
   "execution_count": 12,
   "id": "056bca3e-fa01-4929-8170-521dee3ba816",
   "metadata": {},
   "outputs": [
    {
     "data": {
      "text/plain": [
       "1"
      ]
     },
     "execution_count": 12,
     "metadata": {},
     "output_type": "execute_result"
    }
   ],
   "source": [
    "# CALCULO DA MODA\n",
    "\n",
    "notas = [1, 4,2, 5, 1, 1, 3, 2]\n",
    "\n",
    "def calcula_moda(notas):\n",
    "    notas.sort()\n",
    "    max_count = 0\n",
    "    max_value = 0\n",
    "    for i in notas:\n",
    "        h = notas.count(i)\n",
    "        if h > max_count:\n",
    "            max_count = h\n",
    "            max_value = i\n",
    "    return max_value\n",
    "\n",
    "calcula_moda(notas)"
   ]
  },
  {
   "cell_type": "code",
   "execution_count": 5,
   "id": "46bccc5e-860c-4075-b211-8dc5286798ec",
   "metadata": {},
   "outputs": [
    {
     "name": "stdin",
     "output_type": "stream",
     "text": [
      " 3\n",
      " 5\n",
      " 12 23 15\n",
      " 42 12 20\n"
     ]
    },
    {
     "name": "stdout",
     "output_type": "stream",
     "text": [
      "Guarte\n"
     ]
    },
    {
     "name": "stdin",
     "output_type": "stream",
     "text": [
      " 2\n",
      " 52 1 11\n",
      " 1 52 1\n"
     ]
    },
    {
     "name": "stdout",
     "output_type": "stream",
     "text": [
      "Empate\n"
     ]
    },
    {
     "name": "stdin",
     "output_type": "stream",
     "text": [
      " 3\n",
      " 95 12 22\n",
      " 5 51 21\n"
     ]
    },
    {
     "name": "stdout",
     "output_type": "stream",
     "text": [
      "Dabriel\n"
     ]
    }
   ],
   "source": [
    "# BATALHA DE POMEKONS\n",
    "\n",
    "def calcula_golpe(A, D, L, B):\n",
    "    \"\"\" Retorna o valor do golpe seguindo a fórmula da questão \"\"\"\n",
    "    return (A + D)/2 + (B if L % 2 == 0 else 0)\n",
    "\n",
    "def compara_golpe(A1, D1, L1, A2, D2, L2, B):\n",
    "    \"\"\" Retorna o resultado da batalha Pomekon \"\"\"\n",
    "    golpe_p1 = calcula_golpe(A1, D1, L1, B)\n",
    "    golpe_p2 = calcula_golpe(A2, D2, L2, B)\n",
    "\n",
    "    if golpe_p1 > golpe_p2:\n",
    "        return 1\n",
    "    elif golpe_p1 == golpe_p2:\n",
    "        return 0\n",
    "    else:\n",
    "        return 2\n",
    "\n",
    "T = int(input()) # qnt de instancias\n",
    "\n",
    "for i in range(T):\n",
    "    B = int(input()) # bonus\n",
    "    \n",
    "    A1, D1, L1 = list(map(int, input().split())) # status do pomekon do Dabriel\n",
    "    A2, D2, L2 = list(map(int, input().split())) # status do pomekon do Guarte\n",
    "\n",
    "    ret = compara_golpe(A1, D1, L1, A2, D2, L2, B) # resultado do duelo\n",
    "\n",
    "    # Informa o resultado do duelo\n",
    "    if not ret:\n",
    "        print(\"Empate\")\n",
    "    elif ret == 1:\n",
    "        print(\"Dabriel\")\n",
    "    else:\n",
    "        print(\"Guarte\")\n"
   ]
  },
  {
   "cell_type": "code",
   "execution_count": 11,
   "id": "4e995e34-50bf-4068-aee1-e883833a2b9e",
   "metadata": {},
   "outputs": [
    {
     "name": "stdin",
     "output_type": "stream",
     "text": [
      " 3\n",
      " 11\n"
     ]
    },
    {
     "name": "stdout",
     "output_type": "stream",
     "text": [
      "2\n"
     ]
    },
    {
     "name": "stdin",
     "output_type": "stream",
     "text": [
      " 7\n"
     ]
    },
    {
     "name": "stdout",
     "output_type": "stream",
     "text": [
      "3\n"
     ]
    },
    {
     "name": "stdin",
     "output_type": "stream",
     "text": [
      " 23\n"
     ]
    },
    {
     "name": "stdout",
     "output_type": "stream",
     "text": [
      "3\n"
     ]
    }
   ],
   "source": [
    "# Luzes de Natal\n",
    "\n",
    "def conversor(numero):\n",
    "    \"\"\"Retorna o valor número em binário (string) \"\"\"\n",
    "    binario = \"\"\n",
    "    while numero > 1:\n",
    "        resto = numero % 2\n",
    "        numero //= 2\n",
    "        binario += str(resto)\n",
    "\n",
    "    binario += str(numero)\n",
    "    \n",
    "    return binario[::-1]\n",
    "\n",
    "def contador_lampadas_queimadas(binario):\n",
    "    \"\"\" Retorna a maior quantidade de 1s consecutivos em um número binário \"\"\"\n",
    "    contador = 0\n",
    "    max_count = 0\n",
    "    for i in binario:\n",
    "        if i == \"1\":\n",
    "            contador+=1\n",
    "        elif i == \"0\":\n",
    "            max_count = max(max_count, contador)\n",
    "            contador = 0\n",
    "\n",
    "    max_count = max(max_count, contador)\n",
    "\n",
    "    return max_count\n",
    "            \n",
    "    \n",
    "\n",
    "N = int(input()) # qnt de instancias\n",
    "\n",
    "for i in range(N):\n",
    "    numero = int(input()) # codigo de lampadas\n",
    "\n",
    "    binario = conversor(numero) # converto para binario\n",
    " \n",
    "    print(contador_lampadas_queimadas(binario)) # conto as sequencia de 1s consecutivos\n",
    "        "
   ]
  },
  {
   "cell_type": "code",
   "execution_count": null,
   "id": "f45654cc-bb7e-4203-aba6-b2bbdb2b3e04",
   "metadata": {},
   "outputs": [],
   "source": []
  }
 ],
 "metadata": {
  "kernelspec": {
   "display_name": "Python 3 (ipykernel)",
   "language": "python",
   "name": "python3"
  },
  "language_info": {
   "codemirror_mode": {
    "name": "ipython",
    "version": 3
   },
   "file_extension": ".py",
   "mimetype": "text/x-python",
   "name": "python",
   "nbconvert_exporter": "python",
   "pygments_lexer": "ipython3",
   "version": "3.10.13"
  }
 },
 "nbformat": 4,
 "nbformat_minor": 5
}
