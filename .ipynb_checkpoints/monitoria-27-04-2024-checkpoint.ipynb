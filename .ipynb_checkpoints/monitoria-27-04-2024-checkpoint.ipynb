{
 "cells": [
  {
   "cell_type": "markdown",
   "id": "80edff6c-2ae5-4fd6-a28e-f804697e8e41",
   "metadata": {},
   "source": [
    "## Monitoria: Programação Estruturada\n",
    "**27-04-2024**\n",
    "\n",
    "### Sequências, Listas e Manipulação de Strings"
   ]
  },
  {
   "cell_type": "markdown",
   "id": "9a18649b-8ebc-4666-98fe-69b3832968b7",
   "metadata": {},
   "source": [
    "### Cifra de César\n",
    "\n",
    "Em criptografia, **a Cifra de César**, também conhecida como cifra de troca, código de César ou troca de César, é uma das mais simples e conhecidas técnicas de criptografia. É um tipo de cifra de substituição na qual cada letra do texto é **substituída** por outra, que se apresenta no alfabeto abaixo dela um **número fixo de vezes.**\n",
    "\n",
    "![](https://upload.wikimedia.org/wikipedia/commons/thumb/2/2b/Caesar3.svg/320px-Caesar3.svg.png)\n",
    "\n",
    "Escreva um programa que criptografe e descriptografe uma mensagem usando a cifra de César."
   ]
  },
  {
   "cell_type": "code",
   "execution_count": 10,
   "id": "9f6f12c0-d635-47d3-92eb-0767300909ea",
   "metadata": {},
   "outputs": [
    {
     "name": "stdin",
     "output_type": "stream",
     "text": [
      "Digite a mensagem:  ola mundo\n",
      "Digite o passo:  3\n"
     ]
    },
    {
     "name": "stdout",
     "output_type": "stream",
     "text": [
      "Essa é a sua mensagem criptografada: rodpxqgr\n"
     ]
    }
   ],
   "source": [
    "# Escreva o código aqui\n",
    "\n",
    "## CRIPTOGRAFAR UMA MENSAGEM\n",
    "## ENTRADA: MENSAGEM E O NÚMERO DE PASSOS\n",
    "## SAÍDA: MENSAGEM CRIPTOGRAFADA\n",
    "\n",
    "## DESCRIPTOGRAFAR UMA MENSAGEM\n",
    "## ENTRADA: MENSAGEM CRIPTOGRAFADA E O NÚMERO DE PASSO\n",
    "## SAÍDA: MENSAGEM ORIGINAL\n",
    "\n",
    "# ESTRUTURA DO CÓDIGO\n",
    "# Entrada:\n",
    "# variavel indicando o tipo (cript. descript.)\n",
    "# varivavel para a mensagem\n",
    "# varivavel para o numero de passos\n",
    "# Processamento:\n",
    "# variavel: \"abcdefghijklmnopqrstuvwxyz\"\n",
    "\n",
    "### Exemplo:\n",
    "### mensagem = 'FACE'\n",
    "### passo = 3\n",
    "### f = 5 + 3 => 8 = i\n",
    "\n",
    "#tipo = int(input(\"Escolha uma opção: Criptografar [1] | Descriptografar [2]: \"))\n",
    "\n",
    "#if tipo not in [1,2]:\n",
    "#    print(\"O tipo escolhido nao existe!\\n\")\n",
    "#    continue\n",
    "\n",
    "mensagem = input(\"Digite a mensagem: \").lower()\n",
    "passo = int(input(\"Digite o passo: \"))\n",
    "\n",
    "ALFABETO = \"abcdefghijklmnopqrstuvwxyz\"\n",
    "\n",
    "## Percorrer cada letra da mensagem e substituir pela codificação\n",
    "mensagem_cripto = \"\"\n",
    "for letra in mensagem:\n",
    "\n",
    "    if letra in ALFABETO:\n",
    "        indice = ALFABETO.index(letra)\n",
    "        mensagem_cripto += ALFABETO[indice + passo]\n",
    "    else:\n",
    "        mensagem_cripto += letra\n",
    "\n",
    "\n",
    "print(f\"Essa é a sua mensagem criptografada: {mensagem_cripto}\")"
   ]
  },
  {
   "cell_type": "code",
   "execution_count": 7,
   "id": "71ed30f4-c50d-4556-a629-0d1ad02ff139",
   "metadata": {},
   "outputs": [
    {
     "data": {
      "text/plain": [
       "-1"
      ]
     },
     "execution_count": 7,
     "metadata": {},
     "output_type": "execute_result"
    }
   ],
   "source": [
    "\"face\".find(\"z\")"
   ]
  },
  {
   "cell_type": "markdown",
   "id": "198466de-5a7e-45bb-b8e2-967b822f4328",
   "metadata": {},
   "source": [
    "### Busca Binária\n",
    "\n",
    "Suponha que você tem uma lista ordenada de números e você quer encontrar um número específico nela **de forma eficiente**, como você faria?\n"
   ]
  },
  {
   "cell_type": "code",
   "execution_count": 3,
   "id": "49d7f164-215e-46ae-875c-ec2a3c00e290",
   "metadata": {},
   "outputs": [],
   "source": [
    "# Escreva o código aqui"
   ]
  },
  {
   "cell_type": "markdown",
   "id": "b5aaf83f-acf0-4c46-93b6-2ea7f72739d4",
   "metadata": {},
   "source": [
    "### Conversão de bases numéricas\n",
    "\n"
   ]
  }
 ],
 "metadata": {
  "kernelspec": {
   "display_name": "Python 3 (ipykernel)",
   "language": "python",
   "name": "python3"
  },
  "language_info": {
   "codemirror_mode": {
    "name": "ipython",
    "version": 3
   },
   "file_extension": ".py",
   "mimetype": "text/x-python",
   "name": "python",
   "nbconvert_exporter": "python",
   "pygments_lexer": "ipython3",
   "version": "3.10.13"
  }
 },
 "nbformat": 4,
 "nbformat_minor": 5
}
