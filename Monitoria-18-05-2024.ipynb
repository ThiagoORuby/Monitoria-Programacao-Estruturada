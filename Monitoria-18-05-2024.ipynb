{
 "cells": [
  {
   "cell_type": "markdown",
   "id": "b9568e0b-43b2-4400-abf3-804b1a83ab0e",
   "metadata": {},
   "source": [
    "## Monitoria\n",
    "\n",
    "**27-04-2024**\n",
    "\n",
    "### Falando sobre funções e resolvendo questões"
   ]
  },
  {
   "cell_type": "markdown",
   "id": "43382746-c13b-4636-962c-0a923354438d",
   "metadata": {},
   "source": [
    "#### Básico do Básico sobre funções\n",
    "\n",
    "Funções são blocos de código reutilizáveis que executam uma tarefa específica. Elas permitem que você organize seu código de maneira mais modular e eficiente, facilitando a leitura, manutenção e reutilização.\n",
    "\n",
    "**Entradas** --> PROCESSAMENTO f(x) --> **Saídas**\n",
    "\n",
    "##### Modelo de função em python\n",
    "\n",
    "```python\n",
    "def funcao(entrada1, entrada2, ...):\n",
    "    # BLOCO DE CÓDIGO (PROCESSAMENTO)\n",
    "    return retorno1, retorno2, ...\n",
    "```"
   ]
  },
  {
   "cell_type": "code",
   "execution_count": 24,
   "id": "27ea4605-ab98-49b9-a75c-2ced4ffbea0e",
   "metadata": {},
   "outputs": [
    {
     "name": "stdout",
     "output_type": "stream",
     "text": [
      "120\n"
     ]
    }
   ],
   "source": [
    "def fatorial(a):\n",
    "    fat = 1\n",
    "    for i in range(1, a+1):\n",
    "        fat *= i\n",
    "    return fat\n",
    "\n",
    "print(fatorial(5))"
   ]
  },
  {
   "cell_type": "code",
   "execution_count": 37,
   "id": "d2ff5273-b1cb-4e43-bb5f-87f62985f581",
   "metadata": {},
   "outputs": [
    {
     "name": "stdin",
     "output_type": "stream",
     "text": [
      "Digite o raio da circunferencia:  10\n"
     ]
    },
    {
     "name": "stdout",
     "output_type": "stream",
     "text": [
      "A área será: 314.1592653589793\n"
     ]
    }
   ],
   "source": [
    "import math\n",
    "\n",
    "def area_circunferencia(raio):\n",
    "    return math.pi * (raio**2)\n",
    "\n",
    "raio = float(input(\"Digite o raio da circunferencia: \"))\n",
    "\n",
    "area = area_circunferencia(raio)\n",
    "\n",
    "print(f\"A área será: {area}\")"
   ]
  },
  {
   "cell_type": "markdown",
   "id": "16ebdf05-1132-4f84-9b5b-b306441d61c4",
   "metadata": {},
   "source": [
    "### Conversão de bases numéricas\n",
    "\n",
    "Link do Beecrowd: https://judge.beecrowd.com/pt/problems/view/1957\n",
    "\n",
    "Os dados armazenados no computador estão em binário. Uma forma econômica de ver estes números é usar a base 16 (hexadecimal).\n",
    "Sua tarefa consiste em escrever um programa que, dado um número natural na base 10, mostre sua representação em hexadecimal.\n",
    "\n",
    " \n",
    "![](https://www.cadcobol.com.br/mecaweb_conv_dh_1.png)"
   ]
  },
  {
   "cell_type": "code",
   "execution_count": 27,
   "id": "841a8103-1ac3-4a05-a515-27270af175c5",
   "metadata": {},
   "outputs": [
    {
     "name": "stdout",
     "output_type": "stream",
     "text": [
      "{0: '0', 1: '1', 2: '2', 3: '3', 4: '4', 5: '5', 6: '6', 7: '7', 8: '8', 9: '9', 10: 'A', 11: 'B', 12: 'C', 13: 'D', 14: 'E', 15: 'F'}\n"
     ]
    }
   ],
   "source": [
    "# BASE 16 = 0, 1, 2, 3, 4, 5, 6, 7, 8, 9, A, B, C, D, E, F\n",
    "# BASE 8 = 0, 1, 2, 3, 4, 5, 6, 7\n",
    "# BASE 2 = 0, 1\n",
    "\n",
    "# GERANDO O ALFABETO DE FORMA ''MÁGICA''\n",
    "\n",
    "ALFABETO = {i : str(i) for i in range(10)}\n",
    "ALFABETO.update({i:j for i, j in zip(range(10,16), \"ABCDEF\")})\n",
    "\n",
    "print(ALFABETO)"
   ]
  },
  {
   "cell_type": "code",
   "execution_count": 28,
   "id": "79e53aa0-f3b6-4721-b8f9-85cd5e277620",
   "metadata": {},
   "outputs": [],
   "source": [
    "def converter_para_hexadecimal(numero):\n",
    "    # variavel com valor convertido (invertido)\n",
    "    base16 = \"\"\n",
    "\n",
    "    # loop para divisão por 16\n",
    "    while numero >= 16:\n",
    "        # Pego o resto e atualizo o numero para o quociente\n",
    "        resto = numero % 16\n",
    "        numero = numero // 16\n",
    "        # Concateno o valor a variavel base16\n",
    "        base16 += alfabeto[resto]\n",
    "\n",
    "    # Adiciono elemento restante\n",
    "    base16 += alfabeto[numero]\n",
    "\n",
    "    # retorno valor invertido\n",
    "    return base16[::-1]"
   ]
  },
  {
   "cell_type": "code",
   "execution_count": 36,
   "id": "1667a803-2c45-4df3-9448-4bddc1d1ecd5",
   "metadata": {},
   "outputs": [
    {
     "data": {
      "text/plain": [
       "\u001b[0;31mSignature:\u001b[0m \u001b[0mrandint\u001b[0m\u001b[0;34m(\u001b[0m\u001b[0ma\u001b[0m\u001b[0;34m,\u001b[0m \u001b[0mb\u001b[0m\u001b[0;34m)\u001b[0m\u001b[0;34m\u001b[0m\u001b[0;34m\u001b[0m\u001b[0m\n",
       "\u001b[0;31mDocstring:\u001b[0m\n",
       "Return random integer in range [a, b], including both end points.\n",
       "        \n",
       "\u001b[0;31mFile:\u001b[0m      /usr/lib/python3.10/random.py\n",
       "\u001b[0;31mType:\u001b[0m      method"
      ]
     },
     "metadata": {},
     "output_type": "display_data"
    }
   ],
   "source": [
    "from random import randint\n",
    "\n",
    "# Forma simple de verificar a documentação de uma função num jupyter notebook\n",
    "?randint"
   ]
  },
  {
   "cell_type": "code",
   "execution_count": 35,
   "id": "bf903f6b-c4ef-4732-9253-6f53e2e82492",
   "metadata": {},
   "outputs": [
    {
     "name": "stdout",
     "output_type": "stream",
     "text": [
      "O valor 7413 equivale a 1CF5 em base16\n",
      "O valor 2069 equivale a 815 em base16\n",
      "O valor 11909 equivale a 2E85 em base16\n",
      "O valor 7306 equivale a 1C8A em base16\n",
      "O valor 9827 equivale a 2663 em base16\n",
      "O valor 12241 equivale a 2FD1 em base16\n",
      "O valor 3543 equivale a DD7 em base16\n",
      "O valor 2707 equivale a A93 em base16\n",
      "O valor 13265 equivale a 33D1 em base16\n",
      "O valor 7941 equivale a 1F05 em base16\n"
     ]
    }
   ],
   "source": [
    "for _ in range(10):\n",
    "    valor = randint(18, 15000)\n",
    "    base16 = converter_para_hexadecimal(valor)\n",
    "    print(f\"O valor {valor} equivale a {base16} em base16\")"
   ]
  }
 ],
 "metadata": {
  "kernelspec": {
   "display_name": "Python 3 (ipykernel)",
   "language": "python",
   "name": "python3"
  },
  "language_info": {
   "codemirror_mode": {
    "name": "ipython",
    "version": 3
   },
   "file_extension": ".py",
   "mimetype": "text/x-python",
   "name": "python",
   "nbconvert_exporter": "python",
   "pygments_lexer": "ipython3",
   "version": "3.10.13"
  }
 },
 "nbformat": 4,
 "nbformat_minor": 5
}
