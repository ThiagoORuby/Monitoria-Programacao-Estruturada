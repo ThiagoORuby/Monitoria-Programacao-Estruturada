{
 "cells": [
  {
   "cell_type": "markdown",
   "id": "9831d9ef-6b34-486c-a5a4-44de88931310",
   "metadata": {},
   "source": [
    "## Monitoria: Programação Estruturada\n",
    "**11-05-2024**"
   ]
  },
  {
   "cell_type": "markdown",
   "id": "f87d2c7c-06f5-43b4-a923-0c91166bb5ff",
   "metadata": {},
   "source": [
    "## Resolvendo problemas complexos com o básico\n",
    "\n",
    "### Busca Binária\n",
    "    \n",
    "Suponha que você tem uma lista ordenada de números e você quer encontrar um número específico nela **de forma eficiente**, como você faria?\n",
    "\n",
    "Podemos usar a ideia de **busca binária**:\n",
    "\n",
    "```\n",
    "DADA A LISTA COM POSIÇÕES DE INICIO E FIM\n",
    "LOOP:: INICIO <= FIM ? (AINDA HÁ ELEMENTOS NO INTERVALO INICIO-FIM DA LISTA ?)\n",
    "ENCONTRO A POSIÇÃO DO MEIO\n",
    "LISTA[MEIO] == VALOR_BUSCADO?\n",
    "    - SIM: ACHEI!\n",
    "    - NÃO:\n",
    "        - LISTA[MEIO] > VALOR_BUSCADO?\n",
    "            - SIM:\n",
    "                IGNORO O INTERVALO [MEIO, FIM] (SÃO TODOS MAIORES!!)\n",
    "                FIM AGORA SERÁ MEIO - 1\n",
    "            - NÃO:\n",
    "                - LISTA[MEIO] < VALOR_BUSCADO?\n",
    "                    - SIM:\n",
    "                        IGNORO O INTERVALO [INICIO,MEIO] (SÃO TODOS MENORES!!)\n",
    "                        INICIO AGORA SERÁ MEIO + 1\n",
    "                    - NÃO:\n",
    "                        VOLTO AO LOOP\n",
    "```         \n",
    "    \n",
    "\n",
    "![](https://blog.pantuza.com/uploads/b53fc60454e9d4f8f8f4ee71a2b9b2db8a83b33a)"
   ]
  },
  {
   "cell_type": "code",
   "execution_count": 18,
   "id": "b17cc25e-fe1b-4d1f-9684-19a020f8166b",
   "metadata": {},
   "outputs": [
    {
     "data": {
      "text/plain": [
       "[-1, 1, 2, 4, 4, 12, 23, 32, 43, 192]"
      ]
     },
     "execution_count": 18,
     "metadata": {},
     "output_type": "execute_result"
    }
   ],
   "source": [
    "lista = [12, 43, 2, 4, 192, 32, 4,1, -1 , 23]\n",
    "\n",
    "lista = sorted(lista)\n",
    "lista"
   ]
  },
  {
   "cell_type": "code",
   "execution_count": null,
   "id": "fdc3e8eb-f845-412a-b588-4d7cea7ac784",
   "metadata": {},
   "outputs": [],
   "source": [
    "#  0  1  2  3  4    5     6   7    8   9\n",
    "# -1, 1, 2, 4, 4, **12**, 23, 32, 43, 192\n",
    "# 23, 32, **43**, 192\n",
    "# 23 **32**\n",
    "# retorno SIM"
   ]
  },
  {
   "cell_type": "code",
   "execution_count": 19,
   "id": "ca933fb6-eb5e-4c3f-a7df-23363e68cfeb",
   "metadata": {},
   "outputs": [
    {
     "name": "stdout",
     "output_type": "stream",
     "text": [
      "9\n"
     ]
    }
   ],
   "source": [
    "## FAZENDO UMA BUSCA SIMPLES!!\n",
    "passos = 0\n",
    "for valor in lista:\n",
    "    passos += 1\n",
    "    if valor == 43:\n",
    "        print(passos)\n",
    "        break"
   ]
  },
  {
   "cell_type": "code",
   "execution_count": 29,
   "id": "f5e89d62-9721-430a-a2b1-a40977e64c33",
   "metadata": {},
   "outputs": [
    {
     "name": "stdin",
     "output_type": "stream",
     "text": [
      "Digite a lista: -1 3 8 19 45 93 122 154\n",
      "Digite o valor buscado: 8\n"
     ]
    },
    {
     "name": "stdout",
     "output_type": "stream",
     "text": [
      "-1, 3, 8, 19, 45, 93, 122, 154, \n",
      "Meio: pos: 3, valor: 19\n",
      "-1, 3, 8, \n",
      "Meio: pos: 1, valor: 3\n",
      "8, \n",
      "Meio: pos: 2, valor: 8\n",
      "ACHEI!!\n"
     ]
    }
   ],
   "source": [
    "## CONSTRUINDO UMA BUSCA BINÁRIA\n",
    "\n",
    "def printa_intervalo(lista, inicio, fim):\n",
    "    for i in range(inicio, fim + 1):\n",
    "        print(lista[i], end=\", \")\n",
    "    print()\n",
    "\n",
    "def busca_binaria(lista, valor_buscado):\n",
    "    inicio = 0\n",
    "    fim = len(lista) - 1 \n",
    "    while inicio <= fim:\n",
    "        printa_intervalo(lista,inicio, fim)\n",
    "        meio = (inicio + fim)//2\n",
    "        print(f\"Meio: pos: {meio}, valor: {lista[meio]}\")\n",
    "        if lista[meio] == valor_buscado:\n",
    "            print(\"ACHEI!!\")\n",
    "            return \n",
    "        elif lista[meio] > valor_buscado:\n",
    "            fim = meio - 1\n",
    "        elif lista[meio] < valor_buscado:\n",
    "            inicio = meio + 1\n",
    "\n",
    "    print(\"NÃO ACHEI!!\")\n",
    "\n",
    "lista = list(map(int, input(\"Digite a lista:\").split()))\n",
    "\n",
    "valor_buscado = int(input(\"Digite o valor buscado:\" ))\n",
    "\n",
    "busca_binaria(lista, valor_buscado)\n"
   ]
  },
  {
   "cell_type": "code",
   "execution_count": null,
   "id": "b7a5d6b1-7302-4871-a8e3-156b28858f27",
   "metadata": {},
   "outputs": [],
   "source": [
    "(0 + 9 + 1) // 2 = 5\n",
    "(6 + 9 + 1) // 2 = 8\n",
    "(8 + 7 + 1) // 2 = 7\n",
    "inicio > final "
   ]
  }
 ],
 "metadata": {
  "kernelspec": {
   "display_name": "Python 3 (ipykernel)",
   "language": "python",
   "name": "python3"
  },
  "language_info": {
   "codemirror_mode": {
    "name": "ipython",
    "version": 3
   },
   "file_extension": ".py",
   "mimetype": "text/x-python",
   "name": "python",
   "nbconvert_exporter": "python",
   "pygments_lexer": "ipython3",
   "version": "3.10.13"
  }
 },
 "nbformat": 4,
 "nbformat_minor": 5
}
