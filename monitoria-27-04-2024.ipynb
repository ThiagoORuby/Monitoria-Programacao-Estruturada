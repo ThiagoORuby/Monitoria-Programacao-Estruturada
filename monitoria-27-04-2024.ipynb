{
 "cells": [
  {
   "cell_type": "markdown",
   "id": "80edff6c-2ae5-4fd6-a28e-f804697e8e41",
   "metadata": {},
   "source": [
    "## Monitoria: Programação Estruturada\n",
    "**27-04-2024**\n",
    "\n",
    "### Sequências, Listas e Manipulação de Strings"
   ]
  },
  {
   "cell_type": "markdown",
   "id": "9a18649b-8ebc-4666-98fe-69b3832968b7",
   "metadata": {},
   "source": [
    "### Cifra de César\n",
    "\n",
    "Em criptografia, **a Cifra de César**, também conhecida como cifra de troca, código de César ou troca de César, é uma das mais simples e conhecidas técnicas de criptografia. É um tipo de cifra de substituição na qual cada letra do texto é **substituída** por outra, que se apresenta no alfabeto abaixo dela um **número fixo de vezes.**\n",
    "\n",
    "![](https://upload.wikimedia.org/wikipedia/commons/thumb/2/2b/Caesar3.svg/320px-Caesar3.svg.png)\n",
    "\n",
    "Escreva um programa que criptografe e descriptografe uma mensagem usando a cifra de César."
   ]
  },
  {
   "cell_type": "code",
   "execution_count": 26,
   "id": "9f6f12c0-d635-47d3-92eb-0767300909ea",
   "metadata": {},
   "outputs": [
    {
     "name": "stdin",
     "output_type": "stream",
     "text": [
      "Digite a mensagem:  Ola mundo!\n",
      "Digite o passo:  3\n"
     ]
    },
    {
     "name": "stdout",
     "output_type": "stream",
     "text": [
      "Essa é a sua mensagem criptografada: rod pxqgr!\n"
     ]
    }
   ],
   "source": [
    "# Escreva o código aqui\n",
    "\n",
    "## CRIPTOGRAFAR UMA MENSAGEM\n",
    "## ENTRADA: MENSAGEM E O NÚMERO DE PASSOS\n",
    "## SAÍDA: MENSAGEM CRIPTOGRAFADA\n",
    "\n",
    "## DESCRIPTOGRAFAR UMA MENSAGEM\n",
    "## ENTRADA: MENSAGEM CRIPTOGRAFADA E O NÚMERO DE PASSO\n",
    "## SAÍDA: MENSAGEM ORIGINAL\n",
    "\n",
    "# ESTRUTURA DO CÓDIGO\n",
    "# Entrada:\n",
    "# variavel indicando o tipo (cript. descript.)\n",
    "# varivavel para a mensagem\n",
    "# varivavel para o numero de passos\n",
    "# Processamento:\n",
    "# variavel: \"abcdefghijklmnopqrstuvwxyz\"\n",
    "\n",
    "### Exemplo:\n",
    "### mensagem = 'FACE'\n",
    "### passo = 3\n",
    "### f = 5 + 3 => 8 = i\n",
    "\n",
    "#tipo = int(input(\"Escolha uma opção: Criptografar [1] | Descriptografar [2]: \"))\n",
    "\n",
    "#if tipo not in [1,2]:\n",
    "#    print(\"O tipo escolhido nao existe!\\n\")\n",
    "#    continue\n",
    "\n",
    "mensagem = input(\"Digite a mensagem: \").lower()\n",
    "passo = int(input(\"Digite o passo: \"))\n",
    "\n",
    "ALFABETO = \"abcdefghijklmnopqrstuvwxyz\"\n",
    "\n",
    "## Percorrer cada letra da mensagem e substituir pela codificação\n",
    "mensagem_cripto = \"\"\n",
    "for letra in mensagem:\n",
    "\n",
    "    if letra in ALFABETO:\n",
    "        indice = ALFABETO.index(letra)\n",
    "        mensagem_cripto += ALFABETO[(indice + passo) % 26] \n",
    "    else:\n",
    "        mensagem_cripto += letra\n",
    "\n",
    "\n",
    "print(f\"Essa é a sua mensagem criptografada: {mensagem_cripto}\")"
   ]
  },
  {
   "cell_type": "code",
   "execution_count": 27,
   "id": "6694c1ed-dc51-49e3-95a3-5ced85b1306f",
   "metadata": {},
   "outputs": [
    {
     "name": "stdin",
     "output_type": "stream",
     "text": [
      "Digite a mensagem:  rod pxqgr!\n",
      "Digite o passo:  3\n"
     ]
    },
    {
     "name": "stdout",
     "output_type": "stream",
     "text": [
      "Essa é a sua mensagem criptografada: ola mundo!\n"
     ]
    }
   ],
   "source": [
    "### DESCRIPTOGRAFAR\n",
    "\n",
    "mensagem = input(\"Digite a mensagem: \").lower()\n",
    "passo = int(input(\"Digite o passo: \"))\n",
    "\n",
    "ALFABETO = \"abcdefghijklmnopqrstuvwxyz\"\n",
    "\n",
    "## Percorrer cada letra da mensagem e substituir pela codificação\n",
    "mensagem_descripto = \"\"\n",
    "for letra in mensagem:\n",
    "\n",
    "    if letra in ALFABETO:\n",
    "        indice = ALFABETO.index(letra)\n",
    "        mensagem_descripto += ALFABETO[(indice - passo)] \n",
    "    else:\n",
    "        mensagem_descripto += letra\n",
    "\n",
    "\n",
    "print(f\"Essa é a sua mensagem criptografada: {mensagem_descripto}\")"
   ]
  },
  {
   "cell_type": "code",
   "execution_count": 44,
   "id": "3bee506e-2309-4e6a-9852-dcf32b7f0a2b",
   "metadata": {},
   "outputs": [
    {
     "data": {
      "text/plain": [
       "2"
      ]
     },
     "execution_count": 44,
     "metadata": {},
     "output_type": "execute_result"
    }
   ],
   "source": [
    "## COMO CRIAR UM CONCEITO DE LISTA CIRCULAR (USO DE MÓDULO):\n",
    "28 % 26"
   ]
  },
  {
   "cell_type": "code",
   "execution_count": 7,
   "id": "71ed30f4-c50d-4556-a629-0d1ad02ff139",
   "metadata": {},
   "outputs": [
    {
     "data": {
      "text/plain": [
       "-1"
      ]
     },
     "execution_count": 7,
     "metadata": {},
     "output_type": "execute_result"
    }
   ],
   "source": [
    "\"face\".find(\"z\")"
   ]
  },
  {
   "cell_type": "code",
   "execution_count": 3,
   "id": "49d7f164-215e-46ae-875c-ec2a3c00e290",
   "metadata": {},
   "outputs": [],
   "source": [
    "# Escreva o código aqui"
   ]
  },
  {
   "cell_type": "markdown",
   "id": "b5aaf83f-acf0-4c46-93b6-2ea7f72739d4",
   "metadata": {},
   "source": [
    "### Conversão de bases numéricas\n",
    "\n",
    "1. Crie um programa que converte um numero de base decimal para base binária\n",
    "![w:20](https://zonadaeletrica.com.br/wp-content/uploads/2019/03/Base10Para2-1.png)\n",
    "2. Crie um programa que converte um numero de base 10 para base 8 (0,1,2,3,4,5,6,7)\n",
    "4. Crie um programa que converte um numero de base 10 para base 16 (hexadecimal) (0,1,2,3,4,5,6,7,8,9,A,B,C,D,E,F)"
   ]
  },
  {
   "cell_type": "code",
   "execution_count": 43,
   "id": "a43720cc-0864-43d8-8505-da8e7ea7092b",
   "metadata": {},
   "outputs": [
    {
     "name": "stdin",
     "output_type": "stream",
     "text": [
      "Digite o número a ser convertido:  2\n"
     ]
    },
    {
     "name": "stdout",
     "output_type": "stream",
     "text": [
      "Seu número na base 2 é: 10\n"
     ]
    },
    {
     "name": "stdin",
     "output_type": "stream",
     "text": [
      "Digite o número a ser convertido:  0\n"
     ]
    },
    {
     "name": "stdout",
     "output_type": "stream",
     "text": [
      "Seu número na base 2 é: 0\n"
     ]
    },
    {
     "name": "stdin",
     "output_type": "stream",
     "text": [
      "Digite o número a ser convertido:  1\n"
     ]
    },
    {
     "name": "stdout",
     "output_type": "stream",
     "text": [
      "Seu número na base 2 é: 1\n"
     ]
    },
    {
     "name": "stdin",
     "output_type": "stream",
     "text": [
      "Digite o número a ser convertido:  3\n"
     ]
    },
    {
     "name": "stdout",
     "output_type": "stream",
     "text": [
      "Seu número na base 2 é: 11\n"
     ]
    },
    {
     "name": "stdin",
     "output_type": "stream",
     "text": [
      "Digite o número a ser convertido:  5\n"
     ]
    },
    {
     "name": "stdout",
     "output_type": "stream",
     "text": [
      "Seu número na base 2 é: 101\n"
     ]
    },
    {
     "name": "stdin",
     "output_type": "stream",
     "text": [
      "Digite o número a ser convertido:  15\n"
     ]
    },
    {
     "name": "stdout",
     "output_type": "stream",
     "text": [
      "Seu número na base 2 é: 1111\n"
     ]
    },
    {
     "name": "stdin",
     "output_type": "stream",
     "text": [
      "Digite o número a ser convertido:  16\n"
     ]
    },
    {
     "name": "stdout",
     "output_type": "stream",
     "text": [
      "Seu número na base 2 é: 10000\n"
     ]
    },
    {
     "name": "stdin",
     "output_type": "stream",
     "text": [
      "Digite o número a ser convertido:  17\n"
     ]
    },
    {
     "name": "stdout",
     "output_type": "stream",
     "text": [
      "Seu número na base 2 é: 10001\n"
     ]
    },
    {
     "name": "stdin",
     "output_type": "stream",
     "text": [
      "Digite o número a ser convertido:  18\n"
     ]
    },
    {
     "name": "stdout",
     "output_type": "stream",
     "text": [
      "Seu número na base 2 é: 10010\n"
     ]
    },
    {
     "name": "stdin",
     "output_type": "stream",
     "text": [
      "Digite o número a ser convertido:  19\n"
     ]
    },
    {
     "name": "stdout",
     "output_type": "stream",
     "text": [
      "Seu número na base 2 é: 10011\n"
     ]
    },
    {
     "name": "stdin",
     "output_type": "stream",
     "text": [
      "Digite o número a ser convertido:  -1\n"
     ]
    }
   ],
   "source": [
    "### CONVERSAO BASE 10 -> BASE 2\n",
    "\n",
    "while True:\n",
    "    numero = int(input(\"Digite o número a ser convertido: \"))\n",
    "\n",
    "    if numero < 0: break\n",
    "\n",
    "    base2 = \"\"\n",
    "    while numero >= 2:\n",
    "        resto = numero % 2\n",
    "        base2 += str(resto)\n",
    "        numero = numero // 2\n",
    "    \n",
    "    base2 += str(numero)\n",
    "    \n",
    "    print(f\"Seu número na base 2 é: {''.join(reversed(base2))}\")"
   ]
  },
  {
   "cell_type": "code",
   "execution_count": 40,
   "id": "ace6ee38-28f1-4f16-94ce-2f9dbe4282e7",
   "metadata": {},
   "outputs": [
    {
     "name": "stdout",
     "output_type": "stream",
     "text": [
      "odnum alo\n",
      "odnum alo\n"
     ]
    }
   ],
   "source": [
    "### Como inverter strings em python\n",
    "\n",
    "print(\"ola mundo\"[::-1])\n",
    "print(\"\".join(reversed(\"ola mundo\")))"
   ]
  }
 ],
 "metadata": {
  "kernelspec": {
   "display_name": "Python 3 (ipykernel)",
   "language": "python",
   "name": "python3"
  },
  "language_info": {
   "codemirror_mode": {
    "name": "ipython",
    "version": 3
   },
   "file_extension": ".py",
   "mimetype": "text/x-python",
   "name": "python",
   "nbconvert_exporter": "python",
   "pygments_lexer": "ipython3",
   "version": "3.10.13"
  }
 },
 "nbformat": 4,
 "nbformat_minor": 5
}
